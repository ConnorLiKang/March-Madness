{
 "cells": [
  {
   "cell_type": "code",
   "execution_count": 1,
   "metadata": {},
   "outputs": [
    {
     "data": {
      "text/html": [
       "<div>\n",
       "<style scoped>\n",
       "    .dataframe tbody tr th:only-of-type {\n",
       "        vertical-align: middle;\n",
       "    }\n",
       "\n",
       "    .dataframe tbody tr th {\n",
       "        vertical-align: top;\n",
       "    }\n",
       "\n",
       "    .dataframe thead th {\n",
       "        text-align: right;\n",
       "    }\n",
       "</style>\n",
       "<table border=\"1\" class=\"dataframe\">\n",
       "  <thead>\n",
       "    <tr style=\"text-align: right;\">\n",
       "      <th></th>\n",
       "      <th>team1_seed</th>\n",
       "      <th>team2_seed</th>\n",
       "      <th>team1_dis(km)</th>\n",
       "      <th>team2_dis(km)</th>\n",
       "      <th>team1_pt_school_ncaa</th>\n",
       "      <th>team1_pt_overall_ncaa</th>\n",
       "      <th>team1_pt_school_s16</th>\n",
       "      <th>team1_pt_overall_s16</th>\n",
       "      <th>team1_pt_school_ff</th>\n",
       "      <th>team1_pt_overall_ff</th>\n",
       "      <th>...</th>\n",
       "      <th>team2_opparate</th>\n",
       "      <th>team2_stlrate</th>\n",
       "      <th>team2_oppstlrate</th>\n",
       "      <th>team1_adjtempo</th>\n",
       "      <th>team1_adjoe</th>\n",
       "      <th>team1_adjde</th>\n",
       "      <th>team2_adjtempo</th>\n",
       "      <th>team2_adjoe</th>\n",
       "      <th>team2_adjde</th>\n",
       "      <th>team1_outcome</th>\n",
       "    </tr>\n",
       "  </thead>\n",
       "  <tbody>\n",
       "    <tr>\n",
       "      <th>0</th>\n",
       "      <td>16</td>\n",
       "      <td>16</td>\n",
       "      <td>1076.682624</td>\n",
       "      <td>932.116689</td>\n",
       "      <td>6</td>\n",
       "      <td>6</td>\n",
       "      <td>0</td>\n",
       "      <td>0</td>\n",
       "      <td>0</td>\n",
       "      <td>0</td>\n",
       "      <td>...</td>\n",
       "      <td>57.8947</td>\n",
       "      <td>0.0778</td>\n",
       "      <td>0.1020</td>\n",
       "      <td>73.8504</td>\n",
       "      <td>99.8665</td>\n",
       "      <td>106.4500</td>\n",
       "      <td>67.7359</td>\n",
       "      <td>98.6102</td>\n",
       "      <td>99.6885</td>\n",
       "      <td>0</td>\n",
       "    </tr>\n",
       "    <tr>\n",
       "      <th>1</th>\n",
       "      <td>2</td>\n",
       "      <td>15</td>\n",
       "      <td>969.775258</td>\n",
       "      <td>1058.567916</td>\n",
       "      <td>0</td>\n",
       "      <td>2</td>\n",
       "      <td>0</td>\n",
       "      <td>0</td>\n",
       "      <td>0</td>\n",
       "      <td>0</td>\n",
       "      <td>...</td>\n",
       "      <td>56.3399</td>\n",
       "      <td>0.1282</td>\n",
       "      <td>0.1076</td>\n",
       "      <td>69.9001</td>\n",
       "      <td>111.4954</td>\n",
       "      <td>93.8770</td>\n",
       "      <td>71.2446</td>\n",
       "      <td>96.8669</td>\n",
       "      <td>99.9263</td>\n",
       "      <td>1</td>\n",
       "    </tr>\n",
       "    <tr>\n",
       "      <th>2</th>\n",
       "      <td>14</td>\n",
       "      <td>3</td>\n",
       "      <td>1210.852647</td>\n",
       "      <td>513.529264</td>\n",
       "      <td>0</td>\n",
       "      <td>0</td>\n",
       "      <td>0</td>\n",
       "      <td>0</td>\n",
       "      <td>0</td>\n",
       "      <td>0</td>\n",
       "      <td>...</td>\n",
       "      <td>54.8255</td>\n",
       "      <td>0.0835</td>\n",
       "      <td>0.0839</td>\n",
       "      <td>64.7948</td>\n",
       "      <td>105.4534</td>\n",
       "      <td>97.6704</td>\n",
       "      <td>72.8207</td>\n",
       "      <td>117.3877</td>\n",
       "      <td>96.9262</td>\n",
       "      <td>0</td>\n",
       "    </tr>\n",
       "    <tr>\n",
       "      <th>3</th>\n",
       "      <td>16</td>\n",
       "      <td>1</td>\n",
       "      <td>339.990955</td>\n",
       "      <td>148.384590</td>\n",
       "      <td>3</td>\n",
       "      <td>3</td>\n",
       "      <td>0</td>\n",
       "      <td>0</td>\n",
       "      <td>0</td>\n",
       "      <td>0</td>\n",
       "      <td>...</td>\n",
       "      <td>49.5516</td>\n",
       "      <td>0.1297</td>\n",
       "      <td>0.0919</td>\n",
       "      <td>67.4639</td>\n",
       "      <td>95.3632</td>\n",
       "      <td>99.9754</td>\n",
       "      <td>75.1685</td>\n",
       "      <td>118.5999</td>\n",
       "      <td>87.7504</td>\n",
       "      <td>0</td>\n",
       "    </tr>\n",
       "    <tr>\n",
       "      <th>4</th>\n",
       "      <td>5</td>\n",
       "      <td>12</td>\n",
       "      <td>3007.304604</td>\n",
       "      <td>859.001991</td>\n",
       "      <td>1</td>\n",
       "      <td>1</td>\n",
       "      <td>0</td>\n",
       "      <td>0</td>\n",
       "      <td>0</td>\n",
       "      <td>0</td>\n",
       "      <td>...</td>\n",
       "      <td>51.5702</td>\n",
       "      <td>0.0922</td>\n",
       "      <td>0.0927</td>\n",
       "      <td>66.5739</td>\n",
       "      <td>109.6136</td>\n",
       "      <td>89.9224</td>\n",
       "      <td>63.3547</td>\n",
       "      <td>108.6231</td>\n",
       "      <td>95.6459</td>\n",
       "      <td>1</td>\n",
       "    </tr>\n",
       "  </tbody>\n",
       "</table>\n",
       "<p>5 rows × 67 columns</p>\n",
       "</div>"
      ],
      "text/plain": [
       "   team1_seed  team2_seed  team1_dis(km)  team2_dis(km)  team1_pt_school_ncaa  \\\n",
       "0          16          16    1076.682624     932.116689                     6   \n",
       "1           2          15     969.775258    1058.567916                     0   \n",
       "2          14           3    1210.852647     513.529264                     0   \n",
       "3          16           1     339.990955     148.384590                     3   \n",
       "4           5          12    3007.304604     859.001991                     1   \n",
       "\n",
       "   team1_pt_overall_ncaa  team1_pt_school_s16  team1_pt_overall_s16  \\\n",
       "0                      6                    0                     0   \n",
       "1                      2                    0                     0   \n",
       "2                      0                    0                     0   \n",
       "3                      3                    0                     0   \n",
       "4                      1                    0                     0   \n",
       "\n",
       "   team1_pt_school_ff  team1_pt_overall_ff      ...        team2_opparate  \\\n",
       "0                   0                    0      ...               57.8947   \n",
       "1                   0                    0      ...               56.3399   \n",
       "2                   0                    0      ...               54.8255   \n",
       "3                   0                    0      ...               49.5516   \n",
       "4                   0                    0      ...               51.5702   \n",
       "\n",
       "   team2_stlrate  team2_oppstlrate  team1_adjtempo  team1_adjoe  team1_adjde  \\\n",
       "0         0.0778            0.1020         73.8504      99.8665     106.4500   \n",
       "1         0.1282            0.1076         69.9001     111.4954      93.8770   \n",
       "2         0.0835            0.0839         64.7948     105.4534      97.6704   \n",
       "3         0.1297            0.0919         67.4639      95.3632      99.9754   \n",
       "4         0.0922            0.0927         66.5739     109.6136      89.9224   \n",
       "\n",
       "   team2_adjtempo  team2_adjoe  team2_adjde  team1_outcome  \n",
       "0         67.7359      98.6102      99.6885              0  \n",
       "1         71.2446      96.8669      99.9263              1  \n",
       "2         72.8207     117.3877      96.9262              0  \n",
       "3         75.1685     118.5999      87.7504              0  \n",
       "4         63.3547     108.6231      95.6459              1  \n",
       "\n",
       "[5 rows x 67 columns]"
      ]
     },
     "execution_count": 1,
     "metadata": {},
     "output_type": "execute_result"
    }
   ],
   "source": [
    "#linear_model.Ridge(alpha=0.5)\n",
    "#neuralNetwork(10)\n",
    "#AdaBosstClassifier(n_estimators = 100)\n",
    "#RandomForestClassifier(n_estimators =64 )\n",
    "import pandas as pd\n",
    "import numpy as np\n",
    "df = pd.read_csv('shuffle.csv')\n",
    "df.head()"
   ]
  },
  {
   "cell_type": "code",
   "execution_count": 2,
   "metadata": {},
   "outputs": [],
   "source": [
    "from sklearn.model_selection import train_test_split"
   ]
  },
  {
   "cell_type": "code",
   "execution_count": 3,
   "metadata": {},
   "outputs": [],
   "source": [
    "#define columns value into input x and output y\n",
    "array = df.values\n",
    "x = array[:,0:66]\n",
    "y = array[:,66]"
   ]
  },
  {
   "cell_type": "code",
   "execution_count": null,
   "metadata": {},
   "outputs": [],
   "source": []
  },
  {
   "cell_type": "code",
   "execution_count": 4,
   "metadata": {},
   "outputs": [
    {
     "name": "stderr",
     "output_type": "stream",
     "text": [
      "C:\\Users\\mengq\\Anaconda3\\lib\\site-packages\\sklearn\\cross_validation.py:41: DeprecationWarning: This module was deprecated in version 0.18 in favor of the model_selection module into which all the refactored classes and functions are moved. Also note that the interface of the new CV iterators are different from that of this module. This module will be removed in 0.20.\n",
      "  \"This module will be removed in 0.20.\", DeprecationWarning)\n"
     ]
    },
    {
     "data": {
      "text/plain": [
       "((778, 65), (334, 65))"
      ]
     },
     "execution_count": 4,
     "metadata": {},
     "output_type": "execute_result"
    }
   ],
   "source": [
    "from sklearn.preprocessing import StandardScaler\n",
    "from sklearn.decomposition import PCA\n",
    "from sklearn.model_selection import train_test_split\n",
    "from sklearn import cross_validation\n",
    "sc = StandardScaler()\n",
    "x_std = sc.fit_transform(x)\n",
    "pca = PCA(n_components = 'mle',svd_solver='full')\n",
    "x_pca = pca.fit_transform(x_std)\n",
    "x_train_pca, x_test_pca, y_train, y_test = cross_validation.train_test_split(x_pca,y,test_size=0.3,random_state = 42)\n",
    "x_train_pca.shape,x_test_pca.shape"
   ]
  },
  {
   "cell_type": "code",
   "execution_count": 5,
   "metadata": {},
   "outputs": [
    {
     "name": "stdout",
     "output_type": "stream",
     "text": [
      "Best parameter (CV score=0.686):\n",
      "{'n_estimators': 700}\n"
     ]
    }
   ],
   "source": [
    "#RandomForestClassifier(n_estimators =64 )\n",
    "from sklearn.ensemble import RandomForestClassifier\n",
    "from sklearn.pipeline import Pipeline\n",
    "from sklearn.model_selection import GridSearchCV\n",
    "\n",
    "RF = RandomForestClassifier()\n",
    "param_gridRF = [{\n",
    "                'n_estimators':[50,100,200,700],\n",
    "                #'learning_rate':[1,2,3],\n",
    "               #'algorithm':['SAMME','SAMME.R'],\n",
    "                }]\n",
    "               \n",
    "\n",
    "search = GridSearchCV(RF, param_gridRF, cv=10)\n",
    "search.fit(x_train_pca, y_train)\n",
    "print(\"Best parameter (CV score=%0.3f):\" % search.best_score_)\n",
    "print(search.best_params_)"
   ]
  },
  {
   "cell_type": "code",
   "execution_count": null,
   "metadata": {},
   "outputs": [],
   "source": []
  },
  {
   "cell_type": "code",
   "execution_count": 6,
   "metadata": {},
   "outputs": [
    {
     "data": {
      "text/plain": [
       "0.9136690647482014"
      ]
     },
     "execution_count": 6,
     "metadata": {},
     "output_type": "execute_result"
    }
   ],
   "source": [
    "from sklearn.metrics import accuracy_score\n",
    "\n",
    "y_pred = search.predict(x_pca)\n",
    "accuracy = accuracy_score(y, y_pred)\n",
    "accuracy"
   ]
  },
  {
   "cell_type": "code",
   "execution_count": null,
   "metadata": {},
   "outputs": [],
   "source": []
  },
  {
   "cell_type": "code",
   "execution_count": 7,
   "metadata": {},
   "outputs": [
    {
     "data": {
      "text/plain": [
       "array([[0.80142857, 0.19857143],\n",
       "       [0.14571429, 0.85428571],\n",
       "       [0.66      , 0.34      ],\n",
       "       ...,\n",
       "       [0.25142857, 0.74857143],\n",
       "       [0.88571429, 0.11428571],\n",
       "       [0.68285714, 0.31714286]])"
      ]
     },
     "execution_count": 7,
     "metadata": {},
     "output_type": "execute_result"
    }
   ],
   "source": [
    "#返回probability 第二列表示该场比赛team1 win的概率\n",
    "y_prob = search.predict_proba(x_pca)\n",
    "y_prob"
   ]
  },
  {
   "cell_type": "code",
   "execution_count": 8,
   "metadata": {},
   "outputs": [],
   "source": [
    "df['team1_outcome_pred'] = y_pred[:]\n",
    "team1_win = []\n",
    "for lst in y_prob:\n",
    "    p = lst[1]\n",
    "    team1_win.append(p)\n",
    "team1_win"
   ]
  },
  {
   "cell_type": "code",
   "execution_count": null,
   "metadata": {},
   "outputs": [],
   "source": [
    "df['probability'] = team1_win\n",
    "df.head()"
   ]
  },
  {
   "cell_type": "code",
   "execution_count": 11,
   "metadata": {},
   "outputs": [
    {
     "data": {
      "text/plain": [
       "0.30658784293742003"
      ]
     },
     "execution_count": 11,
     "metadata": {},
     "output_type": "execute_result"
    }
   ],
   "source": [
    "from sklearn.metrics import log_loss\n",
    "log_loss(y,y_prob)"
   ]
  }
 ],
 "metadata": {
  "kernelspec": {
   "display_name": "Python 3",
   "language": "python",
   "name": "python3"
  },
  "language_info": {
   "codemirror_mode": {
    "name": "ipython",
    "version": 3
   },
   "file_extension": ".py",
   "mimetype": "text/x-python",
   "name": "python",
   "nbconvert_exporter": "python",
   "pygments_lexer": "ipython3",
   "version": "3.6.5"
  }
 },
 "nbformat": 4,
 "nbformat_minor": 2
}
